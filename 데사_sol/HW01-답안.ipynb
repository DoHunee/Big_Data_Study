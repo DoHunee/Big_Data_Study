{
 "cells": [
  {
   "cell_type": "markdown",
   "metadata": {
    "colab_type": "text",
    "id": "xvy1kHBQLWeC"
   },
   "source": [
    "# HW01 <font color=red>(제출기한-4월9일 자정)</font>\n",
    "NumPy 이해도 평가를 위한 문제입니다. \n",
    "- Loop를 사용하면 감점입니다. (즉, ufunc을 활용할 것)\n",
    "- Random을 바꿔보며 테스트해 보기 바랍니다. \n",
    "\n",
    "제출시 다음 사항에 유의하기 바랍니다.\n",
    "- 텍스트 셀에 설명되어 있는 각 문항을 잘 읽은 뒤, 코드 셀에 적절한 코드를 작성합니다.\n",
    "- 작성 후 파일명에 ``학번``을 자신의 학번으로 고친 후 ULMS 해당과제 제출란에 업로드합니다.\n"
   ]
  },
  {
   "cell_type": "code",
   "execution_count": 0,
   "metadata": {
    "colab": {},
    "colab_type": "code",
    "id": "TY0FLFzELkHp"
   },
   "outputs": [],
   "source": [
    "import numpy as np\n",
    "rng=np.random.RandomState(100)"
   ]
  },
  {
   "cell_type": "markdown",
   "metadata": {
    "colab_type": "text",
    "id": "MwsTgLQfe34h"
   },
   "source": [
    "### 문제1\n",
    "0이상 100이하의 임의의 정수들로 구성되는 100행 5열의 2차원 numpy array인 ``score``를 생성하시오.\n",
    "<font color=red>(단, 위 rng를 사용할 것)</font>"
   ]
  },
  {
   "cell_type": "code",
   "execution_count": 0,
   "metadata": {
    "colab": {},
    "colab_type": "code",
    "id": "YdYHALEk9hrq"
   },
   "outputs": [],
   "source": [
    "### 답안을 작성하시오. \n",
    "score=rng.randint(0, 101,(100,5))"
   ]
  },
  {
   "cell_type": "code",
   "execution_count": 0,
   "metadata": {
    "colab": {
     "base_uri": "https://localhost:8080/",
     "height": 1000
    },
    "colab_type": "code",
    "executionInfo": {
     "elapsed": 867,
     "status": "ok",
     "timestamp": 1585210728239,
     "user": {
      "displayName": "Yungkeun Kwon",
      "photoUrl": "",
      "userId": "01566397534488960030"
     },
     "user_tz": -540
    },
    "id": "22XC8e9Hfbry",
    "outputId": "6b798f2b-e2ad-436c-898f-6b86f7de76a3"
   },
   "outputs": [
    {
     "data": {
      "text/plain": [
       "array([[  8,  24,  67,  87,  79],\n",
       "       [ 48,  10,  94,  52,  98],\n",
       "       [ 53,  66,  98,  14,  34],\n",
       "       [ 24,  15, 100,  60,  58],\n",
       "       [ 16,   9,  93,  86,   2],\n",
       "       [ 27,   4,  31,   1,  13],\n",
       "       [ 83, 100,   4,  91,  59],\n",
       "       [ 67,   7,  49,  47,  65],\n",
       "       [ 61,  14,  55,  71,  80],\n",
       "       [  2,  94,  19,  98,  63],\n",
       "       [ 53,  27,  56,  30,  48],\n",
       "       [ 47,  39,  38,  44,  18],\n",
       "       [ 64,  56,  34,  53,  74],\n",
       "       [ 17,  72,  13,  30,  17],\n",
       "       [ 53,  68,  50,  91,  91],\n",
       "       [ 83,  53,  78,   0,  13],\n",
       "       [ 57,  76,   3,  70,   3],\n",
       "       [ 84,  79,  10,  87,  60],\n",
       "       [  3,  48,  52,  43,  36],\n",
       "       [  5,  71,  38,  86,  94],\n",
       "       [ 98,  42,  84,  95,  76],\n",
       "       [ 33,  58,  42,  22,   0],\n",
       "       [ 55,  98,  19,  53,  68],\n",
       "       [ 62,  50,  68,  35,  23],\n",
       "       [  9,  48,  21,  25,  54],\n",
       "       [  6,  37,  58,  39,  94],\n",
       "       [ 51,  30,  66,  24,  55],\n",
       "       [ 17,  45,  89,  45,  35],\n",
       "       [ 16,  12,  86,  82,  67],\n",
       "       [ 92,  95,  20,  10,   8],\n",
       "       [ 89,  72,  30,  12,  18],\n",
       "       [ 93,  92,  44,  57,   0],\n",
       "       [ 73,  54,  92,  66,  16],\n",
       "       [  5,  51,  90,  34,  67],\n",
       "       [ 94,  78,  54,  77,  84],\n",
       "       [  1,  14,  33,  20,  40],\n",
       "       [ 24,  93,  58,  28,  82],\n",
       "       [ 82,   7,  94,   2,  63],\n",
       "       [  2,  87,  17,  90,  93],\n",
       "       [ 96,  74,  53,  30,  67],\n",
       "       [ 28,  37,  82,  17,  10],\n",
       "       [ 13,  81,  25,  66,  15],\n",
       "       [ 11,  38,  22,  55,  57],\n",
       "       [ 87,  51,  48,  53,  17],\n",
       "       [ 65,  42,  93,  44,  16],\n",
       "       [ 51,  54,  55,  83, 100],\n",
       "       [ 42,  61,  37,  80,  99],\n",
       "       [  2,  62,  99,  81,  16],\n",
       "       [ 70,  53,  98,  96,  47],\n",
       "       [ 48,   9,  49,  53,  34],\n",
       "       [  3,  11,  49,  29,  36],\n",
       "       [ 93,  67,  26,  52,  36],\n",
       "       [ 73,  31,  85,  92,  68],\n",
       "       [ 83,  71,  61,  93,  36],\n",
       "       [ 42,  13,  48,  82,  32],\n",
       "       [ 38,  40,  53,  93,  14],\n",
       "       [ 38,  86,  37,   0,  59],\n",
       "       [ 41,  44,  19,  76,  66],\n",
       "       [ 13,  87,  65,  68,  54],\n",
       "       [  0,  87,  83,  10,  65],\n",
       "       [  2,  87,  76,  39,  36],\n",
       "       [ 35,  99,  26,  19,   4],\n",
       "       [ 39,  87,  74,  79,  92],\n",
       "       [ 52,  44,  13,  33,  15],\n",
       "       [ 17,  88,  23,  59,   8],\n",
       "       [ 40,  77,  47,  45,  25],\n",
       "       [ 31,  10,  38,  80,  87],\n",
       "       [ 84,  60,  17,  15,  85],\n",
       "       [ 19,  20,   3,  74,  59],\n",
       "       [ 11,  48,   6,  90,  17],\n",
       "       [ 76,  58,  72,   0,  51],\n",
       "       [ 30,  82,  27,  70,  53],\n",
       "       [ 39,  51,  96,  45,  39],\n",
       "       [ 88,  50,  46,  60,  80],\n",
       "       [ 69,  80,  34,  81,  86],\n",
       "       [ 16,  47,   3,  76,  89],\n",
       "       [  5,  66,  64,  45,  59],\n",
       "       [  9,  13,  67,  79,  82],\n",
       "       [ 84,  79,  13,  75,  49],\n",
       "       [ 88,  81,  84,  39,  38],\n",
       "       [ 37,  88,  19,  27,  21],\n",
       "       [  0,  73,   1,  36,  51],\n",
       "       [ 33,  96,  86,  26,  86],\n",
       "       [ 92,   6,  94,   3,  28],\n",
       "       [ 35,  31,  19,  52,  41],\n",
       "       [ 78,  50,  46,  71,  49],\n",
       "       [ 50,  77,  58,  76,  99],\n",
       "       [  2,  61,  60,  18,  35],\n",
       "       [  2,  55,  96,  63,  70],\n",
       "       [ 25,  95,  56,  58,  82],\n",
       "       [ 76,  60,  17,  33,  66],\n",
       "       [ 94,  18,  66,  36,   7],\n",
       "       [100,  62,   1,  85,  77],\n",
       "       [ 57,  30,  92,  16,  81],\n",
       "       [ 96,  20,  35,  82,  23],\n",
       "       [ 42,  99,   7,  77,  47],\n",
       "       [ 18,  43,  87,  92,  88],\n",
       "       [ 85,   1,  94,  92,  91],\n",
       "       [ 41,  22,  77,  48,  89],\n",
       "       [ 59,   9,  69,  50,  62]])"
      ]
     },
     "execution_count": 2,
     "metadata": {
      "tags": []
     },
     "output_type": "execute_result"
    }
   ],
   "source": [
    "### 지우지 마시오.\n",
    "score\n"
   ]
  },
  {
   "cell_type": "markdown",
   "metadata": {
    "colab_type": "text",
    "id": "uoNRo5DuhI3K"
   },
   "source": [
    "### 문제2\n",
    "지금부터 ``score``가 100명의 학생들의 국어, 영어, 수학, 과학, 사회 점수를 뜻한다고 가정하자.\n",
    "\n",
    "이제 5개 과목의 평균점수를 뜻하는 ``avg_subject`` array(1차원)를 생성하시오. "
   ]
  },
  {
   "cell_type": "code",
   "execution_count": 0,
   "metadata": {
    "colab": {},
    "colab_type": "code",
    "id": "jzxNbnMmfuKr"
   },
   "outputs": [],
   "source": [
    "### 답안을 작성하시오. \n",
    "avg_subject=np.mean(score, axis=0)"
   ]
  },
  {
   "cell_type": "code",
   "execution_count": 0,
   "metadata": {
    "colab": {
     "base_uri": "https://localhost:8080/",
     "height": 35
    },
    "colab_type": "code",
    "executionInfo": {
     "elapsed": 670,
     "status": "ok",
     "timestamp": 1585210728240,
     "user": {
      "displayName": "Yungkeun Kwon",
      "photoUrl": "",
      "userId": "01566397534488960030"
     },
     "user_tz": -540
    },
    "id": "KkPZAlQU1oHd",
    "outputId": "ed5f060e-4320-4742-c548-c39370011c07"
   },
   "outputs": [
    {
     "data": {
      "text/plain": [
       "array([45.5 , 53.17, 51.43, 53.54, 51.39])"
      ]
     },
     "execution_count": 4,
     "metadata": {
      "tags": []
     },
     "output_type": "execute_result"
    }
   ],
   "source": [
    "### 지우지 마시오.\n",
    "avg_subject"
   ]
  },
  {
   "cell_type": "markdown",
   "metadata": {
    "colab_type": "text",
    "id": "2-2p1jkUi0lC"
   },
   "source": [
    "### 문제3\n",
    "학생별 평균점수를 뜻하는 ``avg_student`` array(1차원)를 생성하시오. "
   ]
  },
  {
   "cell_type": "code",
   "execution_count": 0,
   "metadata": {
    "colab": {},
    "colab_type": "code",
    "id": "drmL8n_wiE2P"
   },
   "outputs": [],
   "source": [
    "### 답안을 작성하시오. \n",
    "avg_student=np.mean(score, axis=1)\n"
   ]
  },
  {
   "cell_type": "code",
   "execution_count": 0,
   "metadata": {
    "colab": {
     "base_uri": "https://localhost:8080/",
     "height": 197
    },
    "colab_type": "code",
    "executionInfo": {
     "elapsed": 690,
     "status": "ok",
     "timestamp": 1585210728891,
     "user": {
      "displayName": "Yungkeun Kwon",
      "photoUrl": "",
      "userId": "01566397534488960030"
     },
     "user_tz": -540
    },
    "id": "CLrqqafT2Kmj",
    "outputId": "332ed248-027b-4a6f-fa6d-2f391342bc7b"
   },
   "outputs": [
    {
     "data": {
      "text/plain": [
       "array([53. , 60.4, 53. , 51.4, 41.2, 15.2, 67.4, 47. , 56.2, 55.2, 42.8,\n",
       "       37.2, 56.2, 29.8, 70.6, 45.4, 41.8, 64. , 36.4, 58.8, 79. , 31. ,\n",
       "       58.6, 47.6, 31.4, 46.8, 45.2, 46.2, 52.6, 45. , 44.2, 57.2, 60.2,\n",
       "       49.4, 77.4, 21.6, 57. , 49.6, 57.8, 64. , 34.8, 40. , 36.6, 51.2,\n",
       "       52. , 68.6, 63.8, 52. , 72.8, 38.6, 25.6, 54.8, 69.8, 68.8, 43.4,\n",
       "       47.6, 44. , 49.2, 57.4, 49. , 48. , 36.6, 74.2, 31.4, 39. , 46.8,\n",
       "       49.2, 52.2, 35. , 34.4, 51.4, 52.4, 54. , 64.8, 70. , 46.2, 47.8,\n",
       "       50. , 60. , 66. , 38.4, 32.2, 65.4, 44.6, 35.6, 58.8, 72. , 35.2,\n",
       "       57.2, 63.2, 50.4, 44.2, 65. , 55.2, 51.2, 54.4, 65.6, 72.6, 55.4,\n",
       "       49.8])"
      ]
     },
     "execution_count": 6,
     "metadata": {
      "tags": []
     },
     "output_type": "execute_result"
    }
   ],
   "source": [
    "### 지우지 마시오.\n",
    "avg_student"
   ]
  },
  {
   "cell_type": "markdown",
   "metadata": {
    "colab_type": "text",
    "id": "-S7Uvf-vkb2A"
   },
   "source": [
    "### 문제4\n",
    "100명 중 row의 index가 짝수인 학생은 여학생, 홀수인 학생은 남학생이라고 할 때, \n",
    "여학생 전체의 5개과목별 평균점수를 뜻하는 ``avg_female`` array(1차원)을 구하시오."
   ]
  },
  {
   "cell_type": "code",
   "execution_count": 0,
   "metadata": {
    "colab": {},
    "colab_type": "code",
    "id": "jp7lUAjIkT1u"
   },
   "outputs": [],
   "source": [
    "### 답안을 작성하시오. \n",
    "avg_female=np.mean(score[::2], axis=0)\n"
   ]
  },
  {
   "cell_type": "code",
   "execution_count": 0,
   "metadata": {
    "colab": {
     "base_uri": "https://localhost:8080/",
     "height": 35
    },
    "colab_type": "code",
    "executionInfo": {
     "elapsed": 856,
     "status": "ok",
     "timestamp": 1585210729645,
     "user": {
      "displayName": "Yungkeun Kwon",
      "photoUrl": "",
      "userId": "01566397534488960030"
     },
     "user_tz": -540
    },
    "id": "1fdibl603Q4p",
    "outputId": "12baf72d-92ea-414f-d484-2f44a59b50c0"
   },
   "outputs": [
    {
     "data": {
      "text/plain": [
       "array([44.32, 54.82, 52.86, 58.24, 56.46])"
      ]
     },
     "execution_count": 8,
     "metadata": {
      "tags": []
     },
     "output_type": "execute_result"
    }
   ],
   "source": [
    "### 지우지 마시오.\n",
    "avg_female"
   ]
  },
  {
   "cell_type": "markdown",
   "metadata": {
    "colab_type": "text",
    "id": "mc7_NVeX0EmI"
   },
   "source": [
    "### 문제5\n",
    "마찬가지로 남학생 전체의 5개과목별 평균점수를 뜻하는 ``avg_male`` array(1차원)을 구하시오."
   ]
  },
  {
   "cell_type": "code",
   "execution_count": 0,
   "metadata": {
    "colab": {},
    "colab_type": "code",
    "id": "sUDiAKM1zUM5"
   },
   "outputs": [],
   "source": [
    "### 답안을 작성하시오. \n",
    "avg_male=np.mean(score[1::2], axis=0)\n"
   ]
  },
  {
   "cell_type": "code",
   "execution_count": 0,
   "metadata": {
    "colab": {
     "base_uri": "https://localhost:8080/",
     "height": 35
    },
    "colab_type": "code",
    "executionInfo": {
     "elapsed": 492,
     "status": "ok",
     "timestamp": 1585210729935,
     "user": {
      "displayName": "Yungkeun Kwon",
      "photoUrl": "",
      "userId": "01566397534488960030"
     },
     "user_tz": -540
    },
    "id": "1_d4u3NU3ebw",
    "outputId": "ae5652c9-7411-469d-c8d8-331f0a7995d3"
   },
   "outputs": [
    {
     "data": {
      "text/plain": [
       "array([46.68, 51.52, 50.  , 48.84, 46.32])"
      ]
     },
     "execution_count": 10,
     "metadata": {
      "tags": []
     },
     "output_type": "execute_result"
    }
   ],
   "source": [
    "### 지우지 마시오.\n",
    "avg_male"
   ]
  },
  {
   "cell_type": "markdown",
   "metadata": {
    "colab_type": "text",
    "id": "9kBAmJiw0hul"
   },
   "source": [
    "### 문제6\n",
    "\n",
    "$\\frac{\\text{avg_female} + \\text{avg_male}}{2}$ 결과를 ``avg_all`` array 변수에 저장하시오.\n",
    "\n",
    "(``avg_all``의 결과는 ``avg_subject``와 같아야 한다.)"
   ]
  },
  {
   "cell_type": "code",
   "execution_count": 0,
   "metadata": {
    "colab": {},
    "colab_type": "code",
    "id": "gBnUD7sw0S-w"
   },
   "outputs": [],
   "source": [
    "### 답안을 작성하시오. \n",
    "avg_all = (avg_female+avg_male)/2"
   ]
  },
  {
   "cell_type": "code",
   "execution_count": 0,
   "metadata": {
    "colab": {
     "base_uri": "https://localhost:8080/",
     "height": 35
    },
    "colab_type": "code",
    "executionInfo": {
     "elapsed": 525,
     "status": "ok",
     "timestamp": 1585210730576,
     "user": {
      "displayName": "Yungkeun Kwon",
      "photoUrl": "",
      "userId": "01566397534488960030"
     },
     "user_tz": -540
    },
    "id": "O3SKZlGI4k40",
    "outputId": "9b9a3179-2098-4a8d-ad3b-c7aaa8e62cf4"
   },
   "outputs": [
    {
     "data": {
      "text/plain": [
       "array([45.5 , 53.17, 51.43, 53.54, 51.39])"
      ]
     },
     "execution_count": 12,
     "metadata": {
      "tags": []
     },
     "output_type": "execute_result"
    }
   ],
   "source": [
    "### 지우지 마시오.\n",
    "avg_all"
   ]
  },
  {
   "cell_type": "markdown",
   "metadata": {
    "colab_type": "text",
    "id": "eSPM5NMC2Oo9"
   },
   "source": [
    "### 문제7\n",
    "각 점수가 해당과목의 전체학생 평균으로부터 얼마나 차이가 나는지를 나타내는 ``score_dev`` array(2차원)를 생성하시오.\n",
    "- score_dev의 shape는 score의 shape와 동일하다.\n",
    "- 만약 점수가 30점이고 평균이 45점이면 그 차이는 $30-45=-15$ 점이다.\n"
   ]
  },
  {
   "cell_type": "code",
   "execution_count": 0,
   "metadata": {
    "colab": {},
    "colab_type": "code",
    "id": "ZjFY1CEY3s_U"
   },
   "outputs": [],
   "source": [
    "### 답안을 작성하시오. \n",
    "score_dev=score-avg_subject"
   ]
  },
  {
   "cell_type": "code",
   "execution_count": 0,
   "metadata": {
    "colab": {
     "base_uri": "https://localhost:8080/",
     "height": 1000
    },
    "colab_type": "code",
    "executionInfo": {
     "elapsed": 505,
     "status": "ok",
     "timestamp": 1585210731156,
     "user": {
      "displayName": "Yungkeun Kwon",
      "photoUrl": "",
      "userId": "01566397534488960030"
     },
     "user_tz": -540
    },
    "id": "6FqSGzd0P3RX",
    "outputId": "dcaf7896-e127-4a2d-8f50-e80f7eb25569"
   },
   "outputs": [
    {
     "data": {
      "text/plain": [
       "array([[-37.5 , -29.17,  15.57,  33.46,  27.61],\n",
       "       [  2.5 , -43.17,  42.57,  -1.54,  46.61],\n",
       "       [  7.5 ,  12.83,  46.57, -39.54, -17.39],\n",
       "       [-21.5 , -38.17,  48.57,   6.46,   6.61],\n",
       "       [-29.5 , -44.17,  41.57,  32.46, -49.39],\n",
       "       [-18.5 , -49.17, -20.43, -52.54, -38.39],\n",
       "       [ 37.5 ,  46.83, -47.43,  37.46,   7.61],\n",
       "       [ 21.5 , -46.17,  -2.43,  -6.54,  13.61],\n",
       "       [ 15.5 , -39.17,   3.57,  17.46,  28.61],\n",
       "       [-43.5 ,  40.83, -32.43,  44.46,  11.61],\n",
       "       [  7.5 , -26.17,   4.57, -23.54,  -3.39],\n",
       "       [  1.5 , -14.17, -13.43,  -9.54, -33.39],\n",
       "       [ 18.5 ,   2.83, -17.43,  -0.54,  22.61],\n",
       "       [-28.5 ,  18.83, -38.43, -23.54, -34.39],\n",
       "       [  7.5 ,  14.83,  -1.43,  37.46,  39.61],\n",
       "       [ 37.5 ,  -0.17,  26.57, -53.54, -38.39],\n",
       "       [ 11.5 ,  22.83, -48.43,  16.46, -48.39],\n",
       "       [ 38.5 ,  25.83, -41.43,  33.46,   8.61],\n",
       "       [-42.5 ,  -5.17,   0.57, -10.54, -15.39],\n",
       "       [-40.5 ,  17.83, -13.43,  32.46,  42.61],\n",
       "       [ 52.5 , -11.17,  32.57,  41.46,  24.61],\n",
       "       [-12.5 ,   4.83,  -9.43, -31.54, -51.39],\n",
       "       [  9.5 ,  44.83, -32.43,  -0.54,  16.61],\n",
       "       [ 16.5 ,  -3.17,  16.57, -18.54, -28.39],\n",
       "       [-36.5 ,  -5.17, -30.43, -28.54,   2.61],\n",
       "       [-39.5 , -16.17,   6.57, -14.54,  42.61],\n",
       "       [  5.5 , -23.17,  14.57, -29.54,   3.61],\n",
       "       [-28.5 ,  -8.17,  37.57,  -8.54, -16.39],\n",
       "       [-29.5 , -41.17,  34.57,  28.46,  15.61],\n",
       "       [ 46.5 ,  41.83, -31.43, -43.54, -43.39],\n",
       "       [ 43.5 ,  18.83, -21.43, -41.54, -33.39],\n",
       "       [ 47.5 ,  38.83,  -7.43,   3.46, -51.39],\n",
       "       [ 27.5 ,   0.83,  40.57,  12.46, -35.39],\n",
       "       [-40.5 ,  -2.17,  38.57, -19.54,  15.61],\n",
       "       [ 48.5 ,  24.83,   2.57,  23.46,  32.61],\n",
       "       [-44.5 , -39.17, -18.43, -33.54, -11.39],\n",
       "       [-21.5 ,  39.83,   6.57, -25.54,  30.61],\n",
       "       [ 36.5 , -46.17,  42.57, -51.54,  11.61],\n",
       "       [-43.5 ,  33.83, -34.43,  36.46,  41.61],\n",
       "       [ 50.5 ,  20.83,   1.57, -23.54,  15.61],\n",
       "       [-17.5 , -16.17,  30.57, -36.54, -41.39],\n",
       "       [-32.5 ,  27.83, -26.43,  12.46, -36.39],\n",
       "       [-34.5 , -15.17, -29.43,   1.46,   5.61],\n",
       "       [ 41.5 ,  -2.17,  -3.43,  -0.54, -34.39],\n",
       "       [ 19.5 , -11.17,  41.57,  -9.54, -35.39],\n",
       "       [  5.5 ,   0.83,   3.57,  29.46,  48.61],\n",
       "       [ -3.5 ,   7.83, -14.43,  26.46,  47.61],\n",
       "       [-43.5 ,   8.83,  47.57,  27.46, -35.39],\n",
       "       [ 24.5 ,  -0.17,  46.57,  42.46,  -4.39],\n",
       "       [  2.5 , -44.17,  -2.43,  -0.54, -17.39],\n",
       "       [-42.5 , -42.17,  -2.43, -24.54, -15.39],\n",
       "       [ 47.5 ,  13.83, -25.43,  -1.54, -15.39],\n",
       "       [ 27.5 , -22.17,  33.57,  38.46,  16.61],\n",
       "       [ 37.5 ,  17.83,   9.57,  39.46, -15.39],\n",
       "       [ -3.5 , -40.17,  -3.43,  28.46, -19.39],\n",
       "       [ -7.5 , -13.17,   1.57,  39.46, -37.39],\n",
       "       [ -7.5 ,  32.83, -14.43, -53.54,   7.61],\n",
       "       [ -4.5 ,  -9.17, -32.43,  22.46,  14.61],\n",
       "       [-32.5 ,  33.83,  13.57,  14.46,   2.61],\n",
       "       [-45.5 ,  33.83,  31.57, -43.54,  13.61],\n",
       "       [-43.5 ,  33.83,  24.57, -14.54, -15.39],\n",
       "       [-10.5 ,  45.83, -25.43, -34.54, -47.39],\n",
       "       [ -6.5 ,  33.83,  22.57,  25.46,  40.61],\n",
       "       [  6.5 ,  -9.17, -38.43, -20.54, -36.39],\n",
       "       [-28.5 ,  34.83, -28.43,   5.46, -43.39],\n",
       "       [ -5.5 ,  23.83,  -4.43,  -8.54, -26.39],\n",
       "       [-14.5 , -43.17, -13.43,  26.46,  35.61],\n",
       "       [ 38.5 ,   6.83, -34.43, -38.54,  33.61],\n",
       "       [-26.5 , -33.17, -48.43,  20.46,   7.61],\n",
       "       [-34.5 ,  -5.17, -45.43,  36.46, -34.39],\n",
       "       [ 30.5 ,   4.83,  20.57, -53.54,  -0.39],\n",
       "       [-15.5 ,  28.83, -24.43,  16.46,   1.61],\n",
       "       [ -6.5 ,  -2.17,  44.57,  -8.54, -12.39],\n",
       "       [ 42.5 ,  -3.17,  -5.43,   6.46,  28.61],\n",
       "       [ 23.5 ,  26.83, -17.43,  27.46,  34.61],\n",
       "       [-29.5 ,  -6.17, -48.43,  22.46,  37.61],\n",
       "       [-40.5 ,  12.83,  12.57,  -8.54,   7.61],\n",
       "       [-36.5 , -40.17,  15.57,  25.46,  30.61],\n",
       "       [ 38.5 ,  25.83, -38.43,  21.46,  -2.39],\n",
       "       [ 42.5 ,  27.83,  32.57, -14.54, -13.39],\n",
       "       [ -8.5 ,  34.83, -32.43, -26.54, -30.39],\n",
       "       [-45.5 ,  19.83, -50.43, -17.54,  -0.39],\n",
       "       [-12.5 ,  42.83,  34.57, -27.54,  34.61],\n",
       "       [ 46.5 , -47.17,  42.57, -50.54, -23.39],\n",
       "       [-10.5 , -22.17, -32.43,  -1.54, -10.39],\n",
       "       [ 32.5 ,  -3.17,  -5.43,  17.46,  -2.39],\n",
       "       [  4.5 ,  23.83,   6.57,  22.46,  47.61],\n",
       "       [-43.5 ,   7.83,   8.57, -35.54, -16.39],\n",
       "       [-43.5 ,   1.83,  44.57,   9.46,  18.61],\n",
       "       [-20.5 ,  41.83,   4.57,   4.46,  30.61],\n",
       "       [ 30.5 ,   6.83, -34.43, -20.54,  14.61],\n",
       "       [ 48.5 , -35.17,  14.57, -17.54, -44.39],\n",
       "       [ 54.5 ,   8.83, -50.43,  31.46,  25.61],\n",
       "       [ 11.5 , -23.17,  40.57, -37.54,  29.61],\n",
       "       [ 50.5 , -33.17, -16.43,  28.46, -28.39],\n",
       "       [ -3.5 ,  45.83, -44.43,  23.46,  -4.39],\n",
       "       [-27.5 , -10.17,  35.57,  38.46,  36.61],\n",
       "       [ 39.5 , -52.17,  42.57,  38.46,  39.61],\n",
       "       [ -4.5 , -31.17,  25.57,  -5.54,  37.61],\n",
       "       [ 13.5 , -44.17,  17.57,  -3.54,  10.61]])"
      ]
     },
     "execution_count": 14,
     "metadata": {
      "tags": []
     },
     "output_type": "execute_result"
    }
   ],
   "source": [
    "### 지우지 마시오.\n",
    "score_dev"
   ]
  },
  {
   "cell_type": "markdown",
   "metadata": {
    "colab_type": "text",
    "id": "r76QpVN42UMb"
   },
   "source": [
    "### 문제8\n",
    "``score_dev``에서 axis=0 방향으로 평균을 나타내는 ``avg_score_dev``를 구하시오. "
   ]
  },
  {
   "cell_type": "code",
   "execution_count": 0,
   "metadata": {
    "colab": {},
    "colab_type": "code",
    "id": "maGbbcCR1bF_"
   },
   "outputs": [],
   "source": [
    "### 답안을 작성하시오. \n",
    "avg_scorex_dev=np.mean(score_dev, axis=0)\n"
   ]
  },
  {
   "cell_type": "code",
   "execution_count": 0,
   "metadata": {
    "colab": {
     "base_uri": "https://localhost:8080/",
     "height": 53
    },
    "colab_type": "code",
    "executionInfo": {
     "elapsed": 1676,
     "status": "ok",
     "timestamp": 1585210733154,
     "user": {
      "displayName": "Yungkeun Kwon",
      "photoUrl": "",
      "userId": "01566397534488960030"
     },
     "user_tz": -540
    },
    "id": "wUtH05n15dFd",
    "outputId": "d850e2a4-865a-43a1-c434-608999c10f70"
   },
   "outputs": [
    {
     "data": {
      "text/plain": [
       "array([ 0.00000000e+00, -6.25277607e-15, -1.77635684e-15,  2.55795385e-15,\n",
       "        5.68434189e-15])"
      ]
     },
     "execution_count": 16,
     "metadata": {
      "tags": []
     },
     "output_type": "execute_result"
    }
   ],
   "source": [
    "### 지우지 마시오.\n",
    "avg_scorex_dev"
   ]
  },
  {
   "cell_type": "markdown",
   "metadata": {
    "colab_type": "text",
    "id": "TVrc3UDg47si"
   },
   "source": [
    "### 문제9\n",
    "전체과목 평균을 기준으로 1등을 한 학생과 꼴등을 한 학생의 5개 과목 점수 array를 각각 ``student_best``, ``student_worst``에 각각 저장하시오. (1차원 array 변수) "
   ]
  },
  {
   "cell_type": "code",
   "execution_count": 0,
   "metadata": {
    "colab": {},
    "colab_type": "code",
    "id": "u7X6ByWL6YU6"
   },
   "outputs": [],
   "source": [
    "### 답안을 작성하시오. \n",
    "student_best = score[ np.argmax(avg_student) ]\n",
    "student_worst = score[ np.argmin(avg_student) ]"
   ]
  },
  {
   "cell_type": "code",
   "execution_count": 0,
   "metadata": {
    "colab": {
     "base_uri": "https://localhost:8080/",
     "height": 35
    },
    "colab_type": "code",
    "executionInfo": {
     "elapsed": 1374,
     "status": "ok",
     "timestamp": 1585210733953,
     "user": {
      "displayName": "Yungkeun Kwon",
      "photoUrl": "",
      "userId": "01566397534488960030"
     },
     "user_tz": -540
    },
    "id": "xs7xm82W5xTN",
    "outputId": "1937feb0-041f-4376-dff5-db6106e9b2dc"
   },
   "outputs": [
    {
     "data": {
      "text/plain": [
       "(array([98, 42, 84, 95, 76]), array([27,  4, 31,  1, 13]))"
      ]
     },
     "execution_count": 18,
     "metadata": {
      "tags": []
     },
     "output_type": "execute_result"
    }
   ],
   "source": [
    "### 지우지 마시오.\n",
    "student_best, student_worst"
   ]
  },
  {
   "cell_type": "markdown",
   "metadata": {
    "colab_type": "text",
    "id": "eykN7ToP8nIB"
   },
   "source": [
    "### 문제10\n",
    "모든 과목이 각 과목의 평균점수보다 높은 학생수를 구하여 ``no_elite`` 변수에 저장하시오.  "
   ]
  },
  {
   "cell_type": "code",
   "execution_count": 0,
   "metadata": {
    "colab": {},
    "colab_type": "code",
    "id": "C5OKW3aq4pzH"
   },
   "outputs": [],
   "source": [
    "### 답안을 작성하시오. \n",
    "no_elite = sum( ((score > avg_subject).sum(axis=1)) == 5  )"
   ]
  },
  {
   "cell_type": "code",
   "execution_count": 0,
   "metadata": {
    "colab": {
     "base_uri": "https://localhost:8080/",
     "height": 35
    },
    "colab_type": "code",
    "executionInfo": {
     "elapsed": 1102,
     "status": "ok",
     "timestamp": 1585210735276,
     "user": {
      "displayName": "Yungkeun Kwon",
      "photoUrl": "",
      "userId": "01566397534488960030"
     },
     "user_tz": -540
    },
    "id": "31co-yRC6qKb",
    "outputId": "14f7c715-c1b9-4afd-b3ec-ad6d1048844a"
   },
   "outputs": [
    {
     "data": {
      "text/plain": [
       "3"
      ]
     },
     "execution_count": 20,
     "metadata": {
      "tags": []
     },
     "output_type": "execute_result"
    }
   ],
   "source": [
    "### 지우지 마시오.\n",
    "no_elite"
   ]
  }
 ],
 "metadata": {
  "colab": {
   "collapsed_sections": [],
   "name": "HW01-답안.ipynb",
   "provenance": []
  },
  "kernelspec": {
   "display_name": "Python 3",
   "language": "python",
   "name": "python3"
  },
  "language_info": {
   "codemirror_mode": {
    "name": "ipython",
    "version": 3
   },
   "file_extension": ".py",
   "mimetype": "text/x-python",
   "name": "python",
   "nbconvert_exporter": "python",
   "pygments_lexer": "ipython3",
   "version": "3.8.8"
  }
 },
 "nbformat": 4,
 "nbformat_minor": 1
}
